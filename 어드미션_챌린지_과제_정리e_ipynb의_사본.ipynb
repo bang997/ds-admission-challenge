{
  "nbformat": 4,
  "nbformat_minor": 0,
  "metadata": {
    "colab": {
      "name": "어드미션 챌린지 과제 정리e.ipynb의 사본",
      "provenance": [],
      "collapsed_sections": [],
      "include_colab_link": true
    },
    "kernelspec": {
      "name": "python3",
      "display_name": "Python 3"
    }
  },
  "cells": [
    {
      "cell_type": "markdown",
      "metadata": {
        "id": "view-in-github",
        "colab_type": "text"
      },
      "source": [
        "<a href=\"https://colab.research.google.com/github/bang997/ds-admission-challenge/blob/master/%EC%96%B4%EB%93%9C%EB%AF%B8%EC%85%98_%EC%B1%8C%EB%A6%B0%EC%A7%80_%EA%B3%BC%EC%A0%9C_%EC%A0%95%EB%A6%ACe_ipynb%EC%9D%98_%EC%82%AC%EB%B3%B8.ipynb\" target=\"_parent\"><img src=\"https://colab.research.google.com/assets/colab-badge.svg\" alt=\"Open In Colab\"/></a>"
      ]
    },
    {
      "cell_type": "markdown",
      "metadata": {
        "id": "-q8YiM6xsp0X",
        "colab_type": "text"
      },
      "source": [
        "# Challenge\n",
        "\n",
        "- 코드스테이츠 DS 부트캠프 어드미션을 위한 Challenge 과제 입니다. \n",
        "- 아래 challenge 를 풀기 위해 제공된 강의가 모든 것을 알려주진 않습니다. \n",
        "- 따라서 필요한 부분은 스스로 google 검색을 통해 이 challenge 를 완성해 주셔야 합니다. \n",
        "- 각 shell 에 필요한 부분을 작성하신 후 함께 링크를 제출해 주시면 됩니다.\n",
        "- 모든 결과물은 하나의 shell에서 모두 실행될 수 있도록 print문을 사용해 주세요. run all 했을 때 전체 shell 이 모두 잘 실행될 수 있도록 관리해 주세요.\n",
        "\n"
      ]
    },
    {
      "cell_type": "code",
      "metadata": {
        "id": "jG9nz_Qso70q",
        "colab_type": "code",
        "colab": {
          "base_uri": "https://localhost:8080/",
          "height": 34
        },
        "outputId": "bf20c851-d0f6-487d-e2fa-767a45014c50"
      },
      "source": [
        "# 1. 다음의 list 에서 두 번째 list elemnet 를 print 해 보세요\n",
        "list_01 = ['Paul', 'John', 'Ringo', 'George']\n",
        "\n",
        "print(list_01[1])"
      ],
      "execution_count": 19,
      "outputs": [
        {
          "output_type": "stream",
          "text": [
            "John\n"
          ],
          "name": "stdout"
        }
      ]
    },
    {
      "cell_type": "code",
      "metadata": {
        "id": "wGqpxIi8uDKE",
        "colab_type": "code",
        "colab": {
          "base_uri": "https://localhost:8080/",
          "height": 68
        },
        "outputId": "d9dc4363-d5df-4972-84d8-8199fb81b24b"
      },
      "source": [
        "# 2. 다음의 list in the list에서 두 번째 element 를 print 해 보세요\n",
        "list_02 = [['Paul', 'John', 'Ringo', 'George'], ['a', 'b', 'c', 'd'], [1,2,3,4]]\n",
        "\n",
        "print(list_02[0][1]) #john\n",
        "print(list_02[1][2]) #c\n",
        "print(list_02[2][1]) #2"
      ],
      "execution_count": 24,
      "outputs": [
        {
          "output_type": "stream",
          "text": [
            "John\n",
            "c\n",
            "2\n"
          ],
          "name": "stdout"
        }
      ]
    },
    {
      "cell_type": "code",
      "metadata": {
        "id": "u_UvSnNI8XgF",
        "colab_type": "code",
        "colab": {
          "base_uri": "https://localhost:8080/",
          "height": 85
        },
        "outputId": "c84ca66a-f807-4747-dff1-ea681d1fd440"
      },
      "source": [
        "# Initializing list  \n",
        "list_01 = [ 1, 6, 3, 5, 3, 4 ] \n",
        "list_02 = [ 1, 6, 3, 5, 3 ] \n",
        " \n",
        "# for loop을 이용하여 두 개의 리스트 안에 4가 있는지 없는지 print 하는 코드를 작성하세요\n",
        "for i in list_01:\n",
        "  if 4 in list_01:\n",
        "    print(\"exist\")\n",
        "    break\n",
        "  else:\n",
        "    print(\"not exist\")\n",
        "    break\n",
        "\n",
        "for i in list_02:\n",
        "  if 4 in list_02:\n",
        "    print(\"exist\")\n",
        "    break\n",
        "  else:\n",
        "    print(\"not exist\")\n",
        "    break\n",
        "\n",
        "# 리스트 안에 4가 몇 개 있지?\n",
        "count=0\n",
        "for i in list_01:\n",
        "  if i == 4:\n",
        "    count += 1\n",
        "print(count)\n",
        "\n",
        "count=0\n",
        "for i in list_02:\n",
        "  if i == 4:\n",
        "    count += 1\n",
        "print(count)"
      ],
      "execution_count": 45,
      "outputs": [
        {
          "output_type": "stream",
          "text": [
            "exist\n",
            "not exist\n",
            "1\n",
            "0\n"
          ],
          "name": "stdout"
        }
      ]
    },
    {
      "cell_type": "code",
      "metadata": {
        "id": "mGSKPWaI8kA8",
        "colab_type": "code",
        "colab": {
          "base_uri": "https://localhost:8080/",
          "height": 85
        },
        "outputId": "f8387c75-9591-40cf-fe07-4b0b11694b83"
      },
      "source": [
        "\n",
        "# 위 코드 역할을 하는 함수를 작성해 보세요\n",
        "def check_value(element, list):\n",
        "  if list.count(element)>0:\n",
        "    print(\"exist\")\n",
        "  else:\n",
        "    print(\"not exist\")\n",
        "  return\n",
        "\n",
        "check_value(4, list_01)\n",
        "check_value(4, list_02)\n",
        "\n",
        "\n",
        "def dsft(l):\n",
        "  count=0\n",
        "  for i in l:\n",
        "    if i == 4 : \n",
        "      count = 1\n",
        "  if(count == 1) : \n",
        "    print(\"exist\")\n",
        "  else: \n",
        "      print(\"not exist\")\n",
        "\n",
        "dsft(list_01)\n",
        "dsft(list_02)\n",
        "  "
      ],
      "execution_count": 37,
      "outputs": [
        {
          "output_type": "stream",
          "text": [
            "exist\n",
            "not exist\n",
            "exist\n",
            "not exist\n"
          ],
          "name": "stdout"
        }
      ]
    },
    {
      "cell_type": "code",
      "metadata": {
        "id": "tmp7EoSo82Xa",
        "colab_type": "code",
        "colab": {
          "base_uri": "https://localhost:8080/",
          "height": 130
        },
        "outputId": "3a647472-e9bb-439f-da9a-3e6f5c047f1a"
      },
      "source": [
        "list_03 = [4, 5, 8, 9, 10] \n",
        "# 위 list element 중 8보다 큰 숫자가 몇 개가 있는지 코드로 작성해 보세요. \n",
        "count=0\n",
        "for i in list_03:\n",
        "  if i > 8:\n",
        "    count += 1\n",
        "print(count)\n",
        "\n",
        "import numpy as np\n",
        "print(np.array(list_03 > 0)\n",
        "list_04 = [9, 10]\n",
        "len(list_04)"
      ],
      "execution_count": 49,
      "outputs": [
        {
          "output_type": "error",
          "ename": "SyntaxError",
          "evalue": "ignored",
          "traceback": [
            "\u001b[0;36m  File \u001b[0;32m\"<ipython-input-49-9f661184bfe9>\"\u001b[0;36m, line \u001b[0;32m11\u001b[0m\n\u001b[0;31m    list_04 = [9, 10]\u001b[0m\n\u001b[0m          ^\u001b[0m\n\u001b[0;31mSyntaxError\u001b[0m\u001b[0;31m:\u001b[0m invalid syntax\n"
          ]
        }
      ]
    },
    {
      "cell_type": "code",
      "metadata": {
        "id": "fQKIWJ4KGsqs",
        "colab_type": "code",
        "colab": {
          "base_uri": "https://localhost:8080/",
          "height": 51
        },
        "outputId": "391517b4-7e96-4361-df3f-f5ed89ae2883"
      },
      "source": [
        "# BMI\n",
        "height = [1.87,  1.87, 1.82, 1.91, 1.90, 1.85]\n",
        "weight = [81.65, 97.52, 95.25, 92.98, 86.18, 88.45]\n",
        "\n",
        "# bmi = weight / height ** 2 를 numpy array 활용하여 구해보세요\n",
        "import numpy as np\n",
        "h = np.array(height)\n",
        "w = np.array(weight)\n",
        "\n",
        "print(w/h ** 2)\n",
        "\n",
        "# bmi 가 24 이상인 값들만 선택해 보세요\n",
        "bmi = w / h ** 2\n",
        "idx = np.where(bmi>24)\n",
        "\n",
        "print(bmi[idx])"
      ],
      "execution_count": 59,
      "outputs": [
        {
          "output_type": "stream",
          "text": [
            "[23.34925219 27.88755755 28.75558507 25.48723993 23.87257618 25.84368152]\n",
            "[27.88755755 28.75558507 25.48723993 25.84368152]\n"
          ],
          "name": "stdout"
        }
      ]
    },
    {
      "cell_type": "code",
      "metadata": {
        "id": "q8D8Sheb82Gp",
        "colab_type": "code",
        "colab": {
          "base_uri": "https://localhost:8080/",
          "height": 111
        },
        "outputId": "ce21aaa7-db6d-4a9d-f74a-7fe345b868e6"
      },
      "source": [
        "# pandas 패키지 라이브러리를 불러오세요\n",
        "import pandas as pd\n",
        "\n",
        "# 아래 내용을 담는 pandas Dataframe 을 생성하세요\n",
        "# {'Bob': ['I liked it.', 'It was awful.'], 'Sue': ['Pretty good.', 'Bland.']}\n",
        "data = {'Bob': ['I liked it.', 'It was awful.'], 'Sue': ['Pretty good.', 'Bland.']}\n",
        "\n",
        "pd.DataFrame(data, index = ['a', 'b'])"
      ],
      "execution_count": 63,
      "outputs": [
        {
          "output_type": "execute_result",
          "data": {
            "text/html": [
              "<div>\n",
              "<style scoped>\n",
              "    .dataframe tbody tr th:only-of-type {\n",
              "        vertical-align: middle;\n",
              "    }\n",
              "\n",
              "    .dataframe tbody tr th {\n",
              "        vertical-align: top;\n",
              "    }\n",
              "\n",
              "    .dataframe thead th {\n",
              "        text-align: right;\n",
              "    }\n",
              "</style>\n",
              "<table border=\"1\" class=\"dataframe\">\n",
              "  <thead>\n",
              "    <tr style=\"text-align: right;\">\n",
              "      <th></th>\n",
              "      <th>Bob</th>\n",
              "      <th>Sue</th>\n",
              "    </tr>\n",
              "  </thead>\n",
              "  <tbody>\n",
              "    <tr>\n",
              "      <th>a</th>\n",
              "      <td>I liked it.</td>\n",
              "      <td>Pretty good.</td>\n",
              "    </tr>\n",
              "    <tr>\n",
              "      <th>b</th>\n",
              "      <td>It was awful.</td>\n",
              "      <td>Bland.</td>\n",
              "    </tr>\n",
              "  </tbody>\n",
              "</table>\n",
              "</div>"
            ],
            "text/plain": [
              "             Bob           Sue\n",
              "a    I liked it.  Pretty good.\n",
              "b  It was awful.        Bland."
            ]
          },
          "metadata": {
            "tags": []
          },
          "execution_count": 63
        }
      ]
    },
    {
      "cell_type": "code",
      "metadata": {
        "id": "kSFa1Sg--lyw",
        "colab_type": "code",
        "colab": {
          "base_uri": "https://localhost:8080/",
          "height": 130
        },
        "outputId": "17657058-7615-4e25-d16f-a1621d775b23"
      },
      "source": [
        "# 아래와 같은 dataframe을 만들어 보세요. (참고: 연도가 index가 되게 해 주세요)\n",
        "\"\"\"\n",
        "year dept     revenue\n",
        "2015 Sales    30\n",
        "2016 Sales    35\n",
        "2017 Sales    40\n",
        "\"\"\"\n",
        "\n",
        "data = {\n",
        "    'dept' : ['sales','sales','sales']\n",
        "    'revenue' : [30, 35, 40]\n",
        "    }\n",
        "\n",
        "year = [2015, 2016, 2017]\n",
        "DF =pd.DataFrame[data, index=year]\n",
        "\n",
        "# 2017년 데이터만 선택해 보세요\n",
        "DF.iloc[2]\n",
        "\n",
        "# 조건(condition)을 활용하여 revenue 30 이상으로만 filter 해 보세요. reference: https://pandas.pydata.org/pandas-docs/stable/getting_started/intro_tutorials/03_subset_data.html \n",
        "DF[DF['revenue'] >= 30]"
      ],
      "execution_count": 81,
      "outputs": [
        {
          "output_type": "error",
          "ename": "SyntaxError",
          "evalue": "ignored",
          "traceback": [
            "\u001b[0;36m  File \u001b[0;32m\"<ipython-input-81-30425e9b54bc>\"\u001b[0;36m, line \u001b[0;32m11\u001b[0m\n\u001b[0;31m    'revenue' : [30, 35, 40]\u001b[0m\n\u001b[0m            ^\u001b[0m\n\u001b[0;31mSyntaxError\u001b[0m\u001b[0;31m:\u001b[0m invalid syntax\n"
          ]
        }
      ]
    },
    {
      "cell_type": "code",
      "metadata": {
        "id": "GFRfJR5O9XYd",
        "colab_type": "code",
        "colab": {
          "base_uri": "https://localhost:8080/",
          "height": 289
        },
        "outputId": "376a1131-e3fa-4491-e468-964e3da6fcc6"
      },
      "source": [
        "# 'https://web.stanford.edu/class/archive/cs/cs109/cs109.1166/stuff/titanic.csv' 자료를 불러와 dataframe으로 만들어 보세요 \n",
        "titanic=pd.read_csv('https://web.stanford.edu/class/archive/cs/cs109/cs109.1166/stuff/titanic.csv')\n",
        "print(titanic.head())\n",
        "print(titanic.tail())"
      ],
      "execution_count": 76,
      "outputs": [
        {
          "output_type": "stream",
          "text": [
            "   Survived  Pclass  ... Parents/Children Aboard     Fare\n",
            "0         0       3  ...                       0   7.2500\n",
            "1         1       1  ...                       0  71.2833\n",
            "2         1       3  ...                       0   7.9250\n",
            "3         1       1  ...                       0  53.1000\n",
            "4         0       3  ...                       0   8.0500\n",
            "\n",
            "[5 rows x 8 columns]\n",
            "     Survived  Pclass  ... Parents/Children Aboard   Fare\n",
            "882         0       2  ...                       0  13.00\n",
            "883         1       1  ...                       0  30.00\n",
            "884         0       3  ...                       2  23.45\n",
            "885         1       1  ...                       0  30.00\n",
            "886         0       3  ...                       0   7.75\n",
            "\n",
            "[5 rows x 8 columns]\n"
          ],
          "name": "stdout"
        }
      ]
    },
    {
      "cell_type": "code",
      "metadata": {
        "id": "08CdiZjf-b6_",
        "colab_type": "code",
        "colab": {
          "base_uri": "https://localhost:8080/",
          "height": 1000
        },
        "outputId": "599fa5e7-a449-406d-edec-5b74c15f2c1d"
      },
      "source": [
        "# 타이타닉 데이터의 shape은 어떻게 되나요? \n",
        "print(titanic.shape)\n",
        "\n",
        "# 타이타닉 row record에서 10~20번째 줄을 출력해 보세요\n",
        "print(titanic.iloc[9:20])\n",
        "\n",
        "# 타이타닉 데이터에서 'Survived', 'Age', 'Sex' 칼럼 데이터를 선택해 보세요\n",
        "print(titanic[['Survived', 'Age', 'Sex']])\n",
        "\n",
        "# 타이타닉 데이터에서 생존자 데이터만 골라보세요\n",
        "print(titanic[titanic[\"Survived\"] == 1])\n",
        "# 생존자 데이터 중 여자, 남자 중 누가 더 많나요? 참고: https://pandas.pydata.org/pandas-docs/stable/reference/api/pandas.Series.value_counts.html\n",
        "sur = titanic[titanic[\"Survived\"] == 1]\n",
        "\n",
        "sur['Sex'].vaule_counts()"
      ],
      "execution_count": 86,
      "outputs": [
        {
          "output_type": "stream",
          "text": [
            "(887, 8)\n",
            "    Survived  Pclass  ... Parents/Children Aboard     Fare\n",
            "9          1       2  ...                       0  30.0708\n",
            "10         1       3  ...                       1  16.7000\n",
            "11         1       1  ...                       0  26.5500\n",
            "12         0       3  ...                       0   8.0500\n",
            "13         0       3  ...                       5  31.2750\n",
            "14         0       3  ...                       0   7.8542\n",
            "15         1       2  ...                       0  16.0000\n",
            "16         0       3  ...                       1  29.1250\n",
            "17         1       2  ...                       0  13.0000\n",
            "18         0       3  ...                       0  18.0000\n",
            "19         1       3  ...                       0   7.2250\n",
            "\n",
            "[11 rows x 8 columns]\n",
            "     Survived   Age     Sex\n",
            "0           0  22.0    male\n",
            "1           1  38.0  female\n",
            "2           1  26.0  female\n",
            "3           1  35.0  female\n",
            "4           0  35.0    male\n",
            "..        ...   ...     ...\n",
            "882         0  27.0    male\n",
            "883         1  19.0  female\n",
            "884         0   7.0  female\n",
            "885         1  26.0    male\n",
            "886         0  32.0    male\n",
            "\n",
            "[887 rows x 3 columns]\n",
            "     Survived  Pclass  ... Parents/Children Aboard     Fare\n",
            "1           1       1  ...                       0  71.2833\n",
            "2           1       3  ...                       0   7.9250\n",
            "3           1       1  ...                       0  53.1000\n",
            "8           1       3  ...                       2  11.1333\n",
            "9           1       2  ...                       0  30.0708\n",
            "..        ...     ...  ...                     ...      ...\n",
            "871         1       3  ...                       0   7.2250\n",
            "875         1       1  ...                       1  83.1583\n",
            "876         1       2  ...                       1  26.0000\n",
            "883         1       1  ...                       0  30.0000\n",
            "885         1       1  ...                       0  30.0000\n",
            "\n",
            "[342 rows x 8 columns]\n"
          ],
          "name": "stdout"
        },
        {
          "output_type": "error",
          "ename": "AttributeError",
          "evalue": "ignored",
          "traceback": [
            "\u001b[0;31m---------------------------------------------------------------------------\u001b[0m",
            "\u001b[0;31mAttributeError\u001b[0m                            Traceback (most recent call last)",
            "\u001b[0;32m<ipython-input-86-9a636167f13e>\u001b[0m in \u001b[0;36m<module>\u001b[0;34m()\u001b[0m\n\u001b[1;32m     13\u001b[0m \u001b[0msur\u001b[0m \u001b[0;34m=\u001b[0m \u001b[0mtitanic\u001b[0m\u001b[0;34m[\u001b[0m\u001b[0mtitanic\u001b[0m\u001b[0;34m[\u001b[0m\u001b[0;34m\"Survived\"\u001b[0m\u001b[0;34m]\u001b[0m \u001b[0;34m==\u001b[0m \u001b[0;36m1\u001b[0m\u001b[0;34m]\u001b[0m\u001b[0;34m\u001b[0m\u001b[0;34m\u001b[0m\u001b[0m\n\u001b[1;32m     14\u001b[0m \u001b[0;34m\u001b[0m\u001b[0m\n\u001b[0;32m---> 15\u001b[0;31m \u001b[0msur\u001b[0m\u001b[0;34m[\u001b[0m\u001b[0;34m'Sex'\u001b[0m\u001b[0;34m]\u001b[0m\u001b[0;34m.\u001b[0m\u001b[0mvaule_counts\u001b[0m\u001b[0;34m(\u001b[0m\u001b[0;34m)\u001b[0m\u001b[0;34m\u001b[0m\u001b[0;34m\u001b[0m\u001b[0m\n\u001b[0m",
            "\u001b[0;32m/usr/local/lib/python3.6/dist-packages/pandas/core/generic.py\u001b[0m in \u001b[0;36m__getattr__\u001b[0;34m(self, name)\u001b[0m\n\u001b[1;32m   5272\u001b[0m             \u001b[0;32mif\u001b[0m \u001b[0mself\u001b[0m\u001b[0;34m.\u001b[0m\u001b[0m_info_axis\u001b[0m\u001b[0;34m.\u001b[0m\u001b[0m_can_hold_identifiers_and_holds_name\u001b[0m\u001b[0;34m(\u001b[0m\u001b[0mname\u001b[0m\u001b[0;34m)\u001b[0m\u001b[0;34m:\u001b[0m\u001b[0;34m\u001b[0m\u001b[0;34m\u001b[0m\u001b[0m\n\u001b[1;32m   5273\u001b[0m                 \u001b[0;32mreturn\u001b[0m \u001b[0mself\u001b[0m\u001b[0;34m[\u001b[0m\u001b[0mname\u001b[0m\u001b[0;34m]\u001b[0m\u001b[0;34m\u001b[0m\u001b[0;34m\u001b[0m\u001b[0m\n\u001b[0;32m-> 5274\u001b[0;31m             \u001b[0;32mreturn\u001b[0m \u001b[0mobject\u001b[0m\u001b[0;34m.\u001b[0m\u001b[0m__getattribute__\u001b[0m\u001b[0;34m(\u001b[0m\u001b[0mself\u001b[0m\u001b[0;34m,\u001b[0m \u001b[0mname\u001b[0m\u001b[0;34m)\u001b[0m\u001b[0;34m\u001b[0m\u001b[0;34m\u001b[0m\u001b[0m\n\u001b[0m\u001b[1;32m   5275\u001b[0m \u001b[0;34m\u001b[0m\u001b[0m\n\u001b[1;32m   5276\u001b[0m     \u001b[0;32mdef\u001b[0m \u001b[0m__setattr__\u001b[0m\u001b[0;34m(\u001b[0m\u001b[0mself\u001b[0m\u001b[0;34m,\u001b[0m \u001b[0mname\u001b[0m\u001b[0;34m:\u001b[0m \u001b[0mstr\u001b[0m\u001b[0;34m,\u001b[0m \u001b[0mvalue\u001b[0m\u001b[0;34m)\u001b[0m \u001b[0;34m->\u001b[0m \u001b[0;32mNone\u001b[0m\u001b[0;34m:\u001b[0m\u001b[0;34m\u001b[0m\u001b[0;34m\u001b[0m\u001b[0m\n",
            "\u001b[0;31mAttributeError\u001b[0m: 'Series' object has no attribute 'vaule_counts'"
          ]
        }
      ]
    }
  ]
}